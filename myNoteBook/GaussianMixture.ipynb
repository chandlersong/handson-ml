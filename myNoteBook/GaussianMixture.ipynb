{
 "cells": [
  {
   "cell_type": "code",
   "execution_count": 12,
   "metadata": {
    "collapsed": true
   },
   "outputs": [],
   "source": [
    "from sklearn.datasets import make_blobs\n",
    "import numpy as np\n",
    "from sklearn.mixture import GaussianMixture\n",
    "blob_centers = np.array(\n",
    "    [[ 0.2,  2.3],\n",
    "     [-1.5 ,  2.3],\n",
    "     [-2.8,  1.8],\n",
    "     [-2.8,  2.8],\n",
    "     [-2.8,  1.3]])\n",
    "blob_std = np.array([0.4, 0.3, 0.1, 0.1, 0.1])\n",
    "\n",
    "X, y = make_blobs(n_samples=2000, centers=blob_centers,\n",
    "                  cluster_std=blob_std, random_state=7)\n",
    "\n"
   ]
  },
  {
   "cell_type": "markdown",
   "source": [
    "下面的例子，主要是看看init，对于最后的结果，有没有影响"
   ],
   "metadata": {
    "collapsed": false,
    "pycharm": {
     "name": "#%% md\n"
    }
   }
  },
  {
   "cell_type": "code",
   "execution_count": 13,
   "outputs": [
    {
     "data": {
      "text/plain": "(array([[-2.11461964,  2.53020634],\n        [-2.80378572,  1.55104249],\n        [ 0.2125564 ,  2.27344516]]),\n array([0.40590107, 0.39987525, 0.19422368]))"
     },
     "execution_count": 13,
     "metadata": {},
     "output_type": "execute_result"
    }
   ],
   "source": [
    "init_means = np.array([[1,2],[2,1],[0,1]])\n",
    "init_weights = np.array([0.1,0.2,0.7])\n",
    "gm_classification = GaussianMixture(n_components=3,n_init=10,means_init=init_means,weights_init=init_weights)\n",
    "gm_classification.fit_predict(X)\n",
    "gm_classification.means_,gm_classification.weights_"
   ],
   "metadata": {
    "collapsed": false,
    "pycharm": {
     "name": "#%%\n"
    }
   }
  },
  {
   "cell_type": "code",
   "execution_count": 14,
   "outputs": [
    {
     "data": {
      "text/plain": "(array([[-1.48543693,  2.28573643],\n        [ 0.19937187,  2.25813691],\n        [-2.80278963,  1.96665812]]),\n array([0.19978216, 0.20032189, 0.59989596]))"
     },
     "execution_count": 14,
     "metadata": {},
     "output_type": "execute_result"
    }
   ],
   "source": [
    "gm_classification = GaussianMixture(n_components=3,n_init=10)\n",
    "gm_classification.fit_predict(X)\n",
    "gm_classification.means_,gm_classification.weights_\n"
   ],
   "metadata": {
    "collapsed": false,
    "pycharm": {
     "name": "#%%\n"
    }
   }
  }
 ],
 "metadata": {
  "kernelspec": {
   "display_name": "Python 3",
   "language": "python",
   "name": "python3"
  },
  "language_info": {
   "codemirror_mode": {
    "name": "ipython",
    "version": 2
   },
   "file_extension": ".py",
   "mimetype": "text/x-python",
   "name": "python",
   "nbconvert_exporter": "python",
   "pygments_lexer": "ipython2",
   "version": "2.7.6"
  }
 },
 "nbformat": 4,
 "nbformat_minor": 0
}